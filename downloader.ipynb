{
 "cells": [
  {
   "cell_type": "code",
   "execution_count": 1,
   "metadata": {},
   "outputs": [],
   "source": [
    "import fiftyone as fo\n",
    "import fiftyone.zoo as foz\n"
   ]
  },
  {
   "cell_type": "code",
   "execution_count": 30,
   "metadata": {},
   "outputs": [
    {
     "name": "stdout",
     "output_type": "stream",
     "text": [
      "Downloading split 'train' to 'C:\\Users\\00011\\fiftyone\\coco-2017\\train' if necessary\n",
      "Found annotations at 'C:\\Users\\00011\\fiftyone\\coco-2017\\raw\\instances_train2017.json'\n"
     ]
    },
    {
     "name": "stdout",
     "output_type": "stream",
     "text": [
      "Images already downloaded\n",
      "Existing download of split 'train' is sufficient\n",
      "Downloading split 'validation' to 'C:\\Users\\00011\\fiftyone\\coco-2017\\validation' if necessary\n",
      "Found annotations at 'C:\\Users\\00011\\fiftyone\\coco-2017\\raw\\instances_val2017.json'\n",
      "Images already downloaded\n",
      "Existing download of split 'validation' is sufficient\n",
      "Downloading split 'test' to 'C:\\Users\\00011\\fiftyone\\coco-2017\\test' if necessary\n",
      "Found test info at 'C:\\Users\\00011\\fiftyone\\coco-2017\\raw\\image_info_test2017.json'\n",
      "Images already downloaded\n",
      "Existing download of split 'test' is sufficient\n",
      "Loading existing dataset 'coco-2017'. To reload from disk, either delete the existing dataset or provide a custom `dataset_name` to use\n"
     ]
    }
   ],
   "source": [
    "dataset = foz.load_zoo_dataset(\"coco-2017\")"
   ]
  },
  {
   "cell_type": "code",
   "execution_count": 5,
   "metadata": {},
   "outputs": [],
   "source": [
    "from fiftyone import ViewField as F"
   ]
  },
  {
   "cell_type": "code",
   "execution_count": 31,
   "metadata": {},
   "outputs": [
    {
     "name": "stdout",
     "output_type": "stream",
     "text": [
      " 100% |█████████████| 57408/57408 [9.2m elapsed, 0s remaining, 111.6 samples/s]      \n",
      " 100% |███████████████| 7176/7176 [1.3m elapsed, 0s remaining, 126.9 samples/s]      \n",
      " 100% |███████████████| 7176/7176 [1.2m elapsed, 0s remaining, 130.7 samples/s]      \n",
      "Train samples: 57408\n",
      "Validation samples: 7176\n",
      "Test samples: 7176\n"
     ]
    }
   ],
   "source": [
    "import fiftyone as fo\n",
    "import fiftyone.zoo as foz\n",
    "import numpy as np\n",
    "\n",
    "\n",
    "# Filter the dataset for labels \"person\" and \"chair\"\n",
    "view = dataset.filter_labels(\"ground_truth\", fo.ViewField(\"label\").is_in([\"person\", \"chair\"]))\n",
    "\n",
    "shuffled_view = view.shuffle(seed=42)\n",
    "num_samples = len(shuffled_view)\n",
    "\n",
    "train_ratio = 0.8\n",
    "val_ratio = 0.1\n",
    "test_ratio = 0.1\n",
    "\n",
    "num_train = int(train_ratio * num_samples)\n",
    "num_val = int(val_ratio * num_samples)\n",
    "num_test = num_samples - num_train - num_val\n",
    "\n",
    "train_view = shuffled_view[:num_train]\n",
    "val_view = shuffled_view[num_train:num_train + num_val]\n",
    "test_view = shuffled_view[num_train + num_val:]\n",
    "train_dataset = fo.Dataset(name=\"train_person_chair\")\n",
    "train_dataset.add_samples(train_view)\n",
    "\n",
    "val_dataset = fo.Dataset(name=\"val_person_chair\")\n",
    "val_dataset.add_samples(val_view)\n",
    "\n",
    "test_dataset = fo.Dataset(name=\"test_person_chair\")\n",
    "test_dataset.add_samples(test_view)\n",
    "\n",
    "print(f\"Train samples: {len(train_dataset)}\")\n",
    "print(f\"Validation samples: {len(val_dataset)}\")\n",
    "print(f\"Test samples: {len(test_dataset)}\")"
   ]
  },
  {
   "cell_type": "code",
   "execution_count": 32,
   "metadata": {},
   "outputs": [
    {
     "name": "stdout",
     "output_type": "stream",
     "text": [
      " 100% |█████████████| 57408/57408 [12.1m elapsed, 0s remaining, 84.5 samples/s]      \n",
      " 100% |███████████████| 7176/7176 [1.4m elapsed, 0s remaining, 107.9 samples/s]      \n",
      " 100% |███████████████| 7176/7176 [1.5m elapsed, 0s remaining, 98.3 samples/s]       \n"
     ]
    }
   ],
   "source": [
    "train_export_dir = \"yolo_format_person_chair/train\"\n",
    "val_export_dir = \"yolo_format_person_chair/val\"\n",
    "test_export_dir = \"yolo_format_person_chair/test\"\n",
    "\n",
    "# Export datasets in YOLOv5/8 format\n",
    "train_dataset.export(\n",
    "    export_dir=train_export_dir,\n",
    "    dataset_type=fo.types.YOLOv5Dataset,\n",
    "    split=\"train\"\n",
    ")\n",
    "\n",
    "val_dataset.export(\n",
    "    export_dir=val_export_dir,\n",
    "    dataset_type=fo.types.YOLOv5Dataset,\n",
    "    split=\"val\"\n",
    ")\n",
    "\n",
    "test_dataset.export(\n",
    "    export_dir=test_export_dir,\n",
    "    dataset_type=fo.types.YOLOv5Dataset,\n",
    "    split=\"test\"\n",
    ")"
   ]
  },
  {
   "cell_type": "code",
   "execution_count": null,
   "metadata": {},
   "outputs": [],
   "source": []
  }
 ],
 "metadata": {
  "kernelspec": {
   "display_name": "base",
   "language": "python",
   "name": "python3"
  },
  "language_info": {
   "codemirror_mode": {
    "name": "ipython",
    "version": 3
   },
   "file_extension": ".py",
   "mimetype": "text/x-python",
   "name": "python",
   "nbconvert_exporter": "python",
   "pygments_lexer": "ipython3",
   "version": "3.12.1"
  }
 },
 "nbformat": 4,
 "nbformat_minor": 2
}
